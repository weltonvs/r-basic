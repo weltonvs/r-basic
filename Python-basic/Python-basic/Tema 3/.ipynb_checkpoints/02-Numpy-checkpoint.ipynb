{
 "cells": [
  {
   "cell_type": "markdown",
   "metadata": {},
   "source": [
    "## Numpy\n",
    "Es una biblioteca de Python utilizada para lidiar con una gran cantidades de datos homogeneos como se hace Matlab."
   ]
  },
  {
   "cell_type": "markdown",
   "metadata": {},
   "source": [
    "### importando la libreria Numpy\n",
    "Hay tres formas de importar esa librería:\n",
    "* **import numpy:** Es una opción que tiene su incoveniente, ya que siempre que necesitamos utilizar una función de esa librería, hay que poner el nombre de la librería antes de la función.\n",
    "\n",
    "* **import numpy as np:** Es otra forma de importar la librería, pero la renombra para facilitar su uso. Es la opción más utilizada, ya que es mas fácil escribir **_np_** que escribir **_numpy_**.\n",
    "\n",
    "* **from numpy import *:** Es la tercera forma que aqui es muy cómodo utilizar porque no hace falta anteponer el nombre de la librería, pero el incoveniente es que se el nombre de una función de esa librería puede coincidir con el nombre de otra función que pertenece a otra librería."
   ]
  },
  {
   "cell_type": "code",
   "execution_count": 2,
   "metadata": {},
   "outputs": [],
   "source": [
    "import numpy as np #importando la librería numpy"
   ]
  },
  {
   "cell_type": "code",
   "execution_count": 3,
   "metadata": {},
   "outputs": [],
   "source": [
    "L1 = [1,2,3,4,5,6,7,8] #Ejemplo de crear una lista"
   ]
  },
  {
   "cell_type": "markdown",
   "metadata": {},
   "source": [
    "Con **numpy** puedo importar esa lista y utilizarla."
   ]
  },
  {
   "cell_type": "code",
   "execution_count": 4,
   "metadata": {},
   "outputs": [],
   "source": [
    "x1 = np.array(L1)#Insertando una lista en un array de numpy"
   ]
  },
  {
   "cell_type": "code",
   "execution_count": 5,
   "metadata": {},
   "outputs": [
    {
     "data": {
      "text/plain": [
       "array([1, 2, 3, 4, 5, 6, 7, 8])"
      ]
     },
     "execution_count": 5,
     "metadata": {},
     "output_type": "execute_result"
    }
   ],
   "source": [
    "x1"
   ]
  },
  {
   "cell_type": "markdown",
   "metadata": {},
   "source": [
    "Tambien se puede especificar el tipo de dato que quiere albergar dentro del array de numpy."
   ]
  },
  {
   "cell_type": "code",
   "execution_count": 12,
   "metadata": {},
   "outputs": [],
   "source": [
    "x2 = np.array(L1, dtype=\"float32\")"
   ]
  },
  {
   "cell_type": "code",
   "execution_count": 13,
   "metadata": {},
   "outputs": [
    {
     "data": {
      "text/plain": [
       "array([1., 2., 3., 4., 5., 6., 7., 8.], dtype=float32)"
      ]
     },
     "execution_count": 13,
     "metadata": {},
     "output_type": "execute_result"
    }
   ],
   "source": [
    "x2"
   ]
  },
  {
   "cell_type": "markdown",
   "metadata": {},
   "source": [
    "Los tipos más comunes de **dtype** son:\n",
    "* **bool_ :** Datos boleanos.\n",
    "\n",
    "* **int_ :** Datos del tipo doble enteros de C.\n",
    "\n",
    "* **intc :** Datos del tipo enteros de C.\n",
    "\n",
    "* **intp :** Datos enteros utilizados para indexar.\n",
    "\n",
    "* **int8, int16, int32, int64 :** Son datos enteros de 8 hasta datos de 64 bits respectivamente.\n",
    "\n",
    "* **uint8, uint16, uint32, uint64 :** Son datos enteros sin signo de 8 hasta 64 bits respectivamente.\n",
    "\n",
    "* **float_ :** Datos de tipo float de 64 bits.\n",
    "\n",
    "* **float_16 :** Datos de tipo float de media precisión donde tiene un bit para el signo, cinco bits para el exponente y 10 bits para mantiza.  \n",
    "\n",
    "* **float_32 :** Datos de tipo float de precisión normal donde tiene un bit para el signo, ocho bits para el exponente y 23 bits para la mantiza.\n",
    "\n",
    "* **float_64 :** Datos de tipo float de precisión alta, tambien conocido como doble donde tiene un bit para el signo, once bits para el exponente y cincuenta y dos bits para la mantiza.\n",
    "\n",
    "La representación sería (+/-$9999999999e^{99999}$) ejemplo de representación de un float_16\n",
    "\n",
    "* **complex_ :** Datos de tipo complejos de 64, pero no es 64 bits, esos 64 representa 32 bits para la parte real y 32 para la parte imaginaria. ($a+bi, a,b \\in$ float)\n",
    "\n",
    "* **complex64, complex128 :** El mismo que el anterior, pero sólo sube el número de bits de representación. Acuerdate que la parte real es la mitad y la parte imaginaria ocupa la otra mitad. ($a+bi, a,b \\in$ float)\n"
   ]
  },
  {
   "cell_type": "code",
   "execution_count": null,
   "metadata": {},
   "outputs": [],
   "source": []
  }
 ],
 "metadata": {
  "kernelspec": {
   "display_name": "Python 3",
   "language": "python",
   "name": "python3"
  },
  "language_info": {
   "codemirror_mode": {
    "name": "ipython",
    "version": 3
   },
   "file_extension": ".py",
   "mimetype": "text/x-python",
   "name": "python",
   "nbconvert_exporter": "python",
   "pygments_lexer": "ipython3",
   "version": "3.7.6"
  }
 },
 "nbformat": 4,
 "nbformat_minor": 4
}
